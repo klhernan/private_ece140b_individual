{
 "cells": [
  {
   "cell_type": "markdown",
   "id": "f0ba6234",
   "metadata": {},
   "source": [
    "# Lab 1: Challenge 2\n",
    "\n",
    "1. Extract all the text entries containing information for the following properties: awardee, field, year, and work.\n",
    "\n",
    "    \n",
    "2. Save the list as a csv file named **“nobel_laureates.csv”** - use the csv library for this\n"
   ]
  },
  {
   "cell_type": "code",
   "execution_count": 1,
   "id": "20d7b215",
   "metadata": {},
   "outputs": [],
   "source": [
    "# Libraires to obtain data from servers (by requests) and BeautifulSoup to extract the data and find specific entries\n",
    "import requests\n",
    "from bs4 import BeautifulSoup"
   ]
  },
  {
   "cell_type": "code",
   "execution_count": 2,
   "id": "c6147e5d",
   "metadata": {},
   "outputs": [],
   "source": [
    "# Pandas to sort and store data to then be written to a csv file\n",
    "import pandas as pd"
   ]
  },
  {
   "cell_type": "markdown",
   "id": "a3289127",
   "metadata": {},
   "source": [
    "#### Generating a dataframe to store the text obtained by the scrapper\n",
    "Which can then be stored as a csv file "
   ]
  },
  {
   "cell_type": "code",
   "execution_count": 37,
   "id": "7248bd13",
   "metadata": {},
   "outputs": [],
   "source": [
    "del df"
   ]
  },
  {
   "cell_type": "code",
   "execution_count": 38,
   "id": "4added67",
   "metadata": {},
   "outputs": [],
   "source": [
    "# The specific entries we are looking for \n",
    "column_names = ['awardee', 'field', 'year', 'work']\n",
    "\n",
    "# The dataframe, which would be like an excel spreadsheet to organize the text obtained \n",
    "df = pd.DataFrame(columns = column_names)"
   ]
  },
  {
   "cell_type": "markdown",
   "id": "febe6614",
   "metadata": {},
   "source": [
    "## Inspecting the Website\n",
    "\n",
    "The nobels are subdivided by year, from 1901-2021"
   ]
  },
  {
   "cell_type": "code",
   "execution_count": 4,
   "id": "45c1fcae",
   "metadata": {},
   "outputs": [
    {
     "name": "stdout",
     "output_type": "stream",
     "text": [
      "Years to search:  120\n"
     ]
    }
   ],
   "source": [
    "years = 2021-1901\n",
    "print('Years to search: ', years)"
   ]
  },
  {
   "cell_type": "markdown",
   "id": "99423fce",
   "metadata": {},
   "source": [
    "Since the website has all nobel prices listed in a single page, we can simply use the main URL as the one to be used to extract the data."
   ]
  },
  {
   "cell_type": "code",
   "execution_count": 5,
   "id": "cad2f64f",
   "metadata": {},
   "outputs": [
    {
     "name": "stdout",
     "output_type": "stream",
     "text": [
      "Main URL:  https://www.nobelprize.org/prizes/lists/all-nobel-prizes/\n"
     ]
    }
   ],
   "source": [
    "url = \"https://www.nobelprize.org/prizes/lists/all-nobel-prizes/\"\n",
    "print('Main URL: ', url)"
   ]
  },
  {
   "cell_type": "markdown",
   "id": "dc393f93",
   "metadata": {},
   "source": [
    "### Obtain data from main URL "
   ]
  },
  {
   "cell_type": "code",
   "execution_count": 6,
   "id": "b88d39dd",
   "metadata": {},
   "outputs": [
    {
     "name": "stdout",
     "output_type": "stream",
     "text": [
      "Main URL:  https://www.nobelprize.org/prizes/lists/all-nobel-prizes/\n"
     ]
    }
   ],
   "source": [
    "print('Main URL: ', url)"
   ]
  },
  {
   "cell_type": "code",
   "execution_count": 10,
   "id": "b9927b0c",
   "metadata": {},
   "outputs": [],
   "source": [
    "r = requests.get(url)\n",
    "c = r.content"
   ]
  },
  {
   "cell_type": "code",
   "execution_count": 15,
   "id": "033515d2",
   "metadata": {},
   "outputs": [
    {
     "data": {
      "text/plain": [
       "<Response [403]>"
      ]
     },
     "execution_count": 15,
     "metadata": {},
     "output_type": "execute_result"
    }
   ],
   "source": [
    "r"
   ]
  },
  {
   "cell_type": "code",
   "execution_count": 12,
   "id": "6c3a2701",
   "metadata": {},
   "outputs": [
    {
     "name": "stdout",
     "output_type": "stream",
     "text": [
      "<html>\n",
      "<head><title>403 Forbidden</title></head>\n",
      "<body>\n",
      "<center><h1>403 Forbidden</h1></center>\n",
      "<hr/><center>nginx</center>\n",
      "</body>\n",
      "</html>\n",
      "\n"
     ]
    }
   ],
   "source": [
    "soup = BeautifulSoup(c,\"html.parser\")\n",
    "print(soup)"
   ]
  },
  {
   "cell_type": "markdown",
   "id": "be8cfff6",
   "metadata": {},
   "source": [
    "As we can see above the requests to obtain the data results in an error, it could be due to using datahub.ucsd. \n",
    "\n",
    "In order to fix this we can add the header to specify the user and the chrome version I am using to open the url. "
   ]
  },
  {
   "cell_type": "code",
   "execution_count": 66,
   "id": "8f5229f2",
   "metadata": {},
   "outputs": [],
   "source": [
    "headers = {'User-Agent': 'Mozilla/5.0 (Windows NT 10.0; WOW64) AppleWebKit/537.36 (KHTML, like Gecko) Chrome/97.0.4692.71 Safari/537.36'}\n",
    "r = requests.get(url, headers=headers)\n",
    "c = r.content\n",
    "soup = BeautifulSoup(c,\"html.parser\")\n",
    "# print(soup.prettify())"
   ]
  },
  {
   "cell_type": "markdown",
   "id": "7628149e",
   "metadata": {},
   "source": [
    "### Nobel prizes by year structure\n",
    "\n",
    "All the years are within:\n",
    "\n",
    "*tag:* **div class=\"by_year\"**\n",
    "\n",
    "* **YEAR** ⟶ *tag:* **h2** headers are the years\n",
    "    * \"The Nobel Prize in\" + **field** + **year** ⟶ *tag:* **h3** headers\n",
    "    * We can extract fields as any\n",
    "   "
   ]
  },
  {
   "cell_type": "markdown",
   "id": "c7a13634",
   "metadata": {},
   "source": [
    "#### Obtaining fields\n",
    "\n",
    "* We can extract the field by obtaining the text from tag: **h3** \n",
    "* The header3 tag is followed by a clickable link ⟶ *tag:* **a** link to fiel summary\n",
    "\n",
    "\"https://www.nobelprize.org/prizes/\" **field** \"/\" **year** \"/summary/\"\n",
    "\n",
    "\n",
    "We can use these urls as a base to obtain the authors. \n",
    "\n",
    "\n",
    "* Note that the field in the url might not be the complete field name, this must be obtained from, the text used as a bridge to the link. \n",
    "* Thus we store both: *field* and *url_field*, using the url with the year to all authors and work "
   ]
  },
  {
   "cell_type": "markdown",
   "id": "1242e463",
   "metadata": {},
   "source": [
    "## Retreiving data"
   ]
  },
  {
   "cell_type": "code",
   "execution_count": 9,
   "id": "70ef3c30",
   "metadata": {},
   "outputs": [
    {
     "name": "stdout",
     "output_type": "stream",
     "text": [
      "Sub division 1 length :  658\n",
      "Sub division 2 length :  419\n"
     ]
    }
   ],
   "source": [
    "# The years are mixed, some years are underneath the first div by_year but later years are under 2 layers of div by_year\n",
    "yrs_fields_1 = soup.select(\"div > h3 > a\")\n",
    "print('Sub division 1 length : ', len(yrs_fields_1))\n",
    "\n",
    "yrs_fields_2 = soup.select(\"div > div > h3 > a\")\n",
    "print('Sub division 2 length : ', len(yrs_fields_2))"
   ]
  },
  {
   "cell_type": "code",
   "execution_count": 10,
   "id": "2e805ffa",
   "metadata": {},
   "outputs": [
    {
     "data": {
      "text/plain": [
       "[]"
      ]
     },
     "execution_count": 10,
     "metadata": {},
     "output_type": "execute_result"
    }
   ],
   "source": [
    "# Checking for a possible 3rd subdivision\n",
    "soup.select(\"div > div > div > h3 > a\")"
   ]
  },
  {
   "cell_type": "code",
   "execution_count": 11,
   "id": "1cb751f3",
   "metadata": {},
   "outputs": [
    {
     "data": {
      "text/plain": [
       "[<a href=\"https://www.nobelprize.org/prizes/physics/2021/summary\">The Nobel Prize in Physics 2021</a>,\n",
       " <a href=\"https://www.nobelprize.org/prizes/chemistry/2021/summary/\">The Nobel Prize in Chemistry 2021</a>,\n",
       " <a href=\"https://www.nobelprize.org/prizes/medicine/2021/summary\">The Nobel Prize in Physiology or Medicine 2021</a>,\n",
       " <a href=\"https://www.nobelprize.org/prizes/literature/2021/summary/\">The Nobel Prize in Literature 2021</a>,\n",
       " <a href=\"https://www.nobelprize.org/prizes/peace/2021/summary/\">The Nobel Peace Prize 2021</a>]"
      ]
     },
     "execution_count": 11,
     "metadata": {},
     "output_type": "execute_result"
    }
   ],
   "source": [
    "# Contains a tags to the subtitle (fields) for all years. Sample output\n",
    "yrs_fields_1[:5]"
   ]
  },
  {
   "cell_type": "code",
   "execution_count": 39,
   "id": "3dd24826",
   "metadata": {},
   "outputs": [
    {
     "data": {
      "text/html": [
       "<div>\n",
       "<style scoped>\n",
       "    .dataframe tbody tr th:only-of-type {\n",
       "        vertical-align: middle;\n",
       "    }\n",
       "\n",
       "    .dataframe tbody tr th {\n",
       "        vertical-align: top;\n",
       "    }\n",
       "\n",
       "    .dataframe thead th {\n",
       "        text-align: right;\n",
       "    }\n",
       "</style>\n",
       "<table border=\"1\" class=\"dataframe\">\n",
       "  <thead>\n",
       "    <tr style=\"text-align: right;\">\n",
       "      <th></th>\n",
       "      <th>awardee</th>\n",
       "      <th>field</th>\n",
       "      <th>year</th>\n",
       "      <th>work</th>\n",
       "    </tr>\n",
       "  </thead>\n",
       "  <tbody>\n",
       "  </tbody>\n",
       "</table>\n",
       "</div>"
      ],
      "text/plain": [
       "Empty DataFrame\n",
       "Columns: [awardee, field, year, work]\n",
       "Index: []"
      ]
     },
     "execution_count": 39,
     "metadata": {},
     "output_type": "execute_result"
    }
   ],
   "source": [
    "df"
   ]
  },
  {
   "cell_type": "code",
   "execution_count": 40,
   "id": "96c13d22",
   "metadata": {},
   "outputs": [],
   "source": [
    "def store_retrieved_data(df, div_fields):\n",
    "    \n",
    "    for i in range(len(div_fields)):\n",
    "        # Get the current field and year \n",
    "        sub_title = div_fields[i]\n",
    "\n",
    "        # Get the year as an int\n",
    "        yr = int(sub_title.string[-4:])\n",
    "\n",
    "        # Determine the url pages that correspond to the current field to determine the name \n",
    "        field_url_i = str(sub_title)\n",
    "        url_field = str(field_url_i.split('>')[0].split('prizes/')[1].split('/')[0])\n",
    "\n",
    "        if url_field == 'economics' or url_field == 'economic-sciences':\n",
    "            field_i = 'Economic Sciences'\n",
    "\n",
    "        elif url_field == 'peace':\n",
    "            field_i = 'Peace'\n",
    "\n",
    "        else:\n",
    "            field_i = str(sub_title.string[:-5])\n",
    "            field_i = str(field_i.split('Prize in ')[-1])\n",
    "\n",
    "        # Get the url to the current field and year up to the year\n",
    "        tag_pi = field_url_i.split(str(yr))\n",
    "        tag_pi = str(tag_pi[0]) + str(yr)\n",
    "\n",
    "        # Get the paragraph following the header with the field and year\n",
    "        next_p = sub_title.find_all_next(\"p\")\n",
    "\n",
    "        for pi in next_p:\n",
    "\n",
    "            # find_all_next returns all iterations following a specific element by an specified tag, \n",
    "            # Note: this will output all next even if it does not belong to that p. We need to filter by the main year+field url\n",
    "            a_tags = pi.find_all(\"a\")\n",
    "\n",
    "            # Check if there is an \"a href\" tag, if there is then that would be the link to the authors    \n",
    "            if len(a_tags) == 0: \n",
    "                continue\n",
    "\n",
    "            ai = str(a_tags[0])\n",
    "            tag_ai = str(ai.split(str(yr))[0]) + str(yr)\n",
    "\n",
    "            # Checking that this a tag matches that of the current year and field (obtained from p):\n",
    "            if tag_pi != tag_ai:\n",
    "                break\n",
    "\n",
    "            txt = str(pi.get_text())\n",
    "            # Some awardees in the html file are separated not by a \" \" but an actual characted that reads as \\xa0 or \\n \n",
    "            strip_txt = txt.split(\"\\n\")\n",
    "            awardee_i = ''\n",
    "\n",
    "            if len(strip_txt) == 1:\n",
    "                txt_split = txt.split('“')\n",
    "                names = str(txt_split[0])\n",
    "                names = names.split('\\xa0')\n",
    "\n",
    "                if len(names) != 1:\n",
    "                    for name in names:\n",
    "                        awardee_i += name + ' '\n",
    "                else:\n",
    "                    awardee_i = str(txt_split[0])\n",
    "                work_i = str(txt_split[1][:-1])  \n",
    "\n",
    "            else:\n",
    "                names = str(strip_txt[0])\n",
    "                names = names.split('\\xa0')\n",
    "\n",
    "                for name in names:\n",
    "                    awardee_i += name + ' '\n",
    "                work_i = str(strip_txt[1][1:-1])\n",
    "\n",
    "            df.loc[len(df.index)] = [awardee_i, field_i, yr, work_i]\n",
    "            \n",
    "    return df"
   ]
  },
  {
   "cell_type": "code",
   "execution_count": 41,
   "id": "db701d59",
   "metadata": {},
   "outputs": [],
   "source": [
    "df = store_retrieved_data(df, yrs_fields_1)\n",
    "df = store_retrieved_data(df, yrs_fields_2)"
   ]
  },
  {
   "cell_type": "code",
   "execution_count": 42,
   "id": "eafd24cf",
   "metadata": {},
   "outputs": [
    {
     "data": {
      "text/html": [
       "<div>\n",
       "<style scoped>\n",
       "    .dataframe tbody tr th:only-of-type {\n",
       "        vertical-align: middle;\n",
       "    }\n",
       "\n",
       "    .dataframe tbody tr th {\n",
       "        vertical-align: top;\n",
       "    }\n",
       "\n",
       "    .dataframe thead th {\n",
       "        text-align: right;\n",
       "    }\n",
       "</style>\n",
       "<table border=\"1\" class=\"dataframe\">\n",
       "  <thead>\n",
       "    <tr style=\"text-align: right;\">\n",
       "      <th></th>\n",
       "      <th>awardee</th>\n",
       "      <th>field</th>\n",
       "      <th>year</th>\n",
       "      <th>work</th>\n",
       "    </tr>\n",
       "  </thead>\n",
       "  <tbody>\n",
       "    <tr>\n",
       "      <th>0</th>\n",
       "      <td>Syukuro Manabe and Klaus Hasselmann</td>\n",
       "      <td>Physics</td>\n",
       "      <td>2021</td>\n",
       "      <td>for the physical modelling of Earth’s climate,...</td>\n",
       "    </tr>\n",
       "    <tr>\n",
       "      <th>1</th>\n",
       "      <td>Giorgio Parisi</td>\n",
       "      <td>Physics</td>\n",
       "      <td>2021</td>\n",
       "      <td>for the discovery of the interplay of disorder...</td>\n",
       "    </tr>\n",
       "    <tr>\n",
       "      <th>2</th>\n",
       "      <td>Benjamin List and David MacMillan</td>\n",
       "      <td>Chemistry</td>\n",
       "      <td>2021</td>\n",
       "      <td>for the development of asymmetric organocatalysis</td>\n",
       "    </tr>\n",
       "    <tr>\n",
       "      <th>3</th>\n",
       "      <td>David Julius and Ardem Patapoutian</td>\n",
       "      <td>Physiology or Medicine</td>\n",
       "      <td>2021</td>\n",
       "      <td>for their discoveries of receptors for tempera...</td>\n",
       "    </tr>\n",
       "    <tr>\n",
       "      <th>4</th>\n",
       "      <td>Abdulrazak Gurnah</td>\n",
       "      <td>Literature</td>\n",
       "      <td>2021</td>\n",
       "      <td>for his uncompromising and compassionate penet...</td>\n",
       "    </tr>\n",
       "    <tr>\n",
       "      <th>...</th>\n",
       "      <td>...</td>\n",
       "      <td>...</td>\n",
       "      <td>...</td>\n",
       "      <td>...</td>\n",
       "    </tr>\n",
       "    <tr>\n",
       "      <th>1060</th>\n",
       "      <td>Jacobus Henricus van ‘t Hoff</td>\n",
       "      <td>Chemistry</td>\n",
       "      <td>1901</td>\n",
       "      <td>in recognition of the extraordinary services h...</td>\n",
       "    </tr>\n",
       "    <tr>\n",
       "      <th>1061</th>\n",
       "      <td>Emil Adolf von Behring</td>\n",
       "      <td>Physiology or Medicine</td>\n",
       "      <td>1901</td>\n",
       "      <td>for his work on serum therapy, especially its ...</td>\n",
       "    </tr>\n",
       "    <tr>\n",
       "      <th>1062</th>\n",
       "      <td>Sully Prudhomme</td>\n",
       "      <td>Literature</td>\n",
       "      <td>1901</td>\n",
       "      <td>in special recognition of his poetic compositi...</td>\n",
       "    </tr>\n",
       "    <tr>\n",
       "      <th>1063</th>\n",
       "      <td>Jean Henry Dunant</td>\n",
       "      <td>Peace</td>\n",
       "      <td>1901</td>\n",
       "      <td>for his humanitarian efforts to help wounded s...</td>\n",
       "    </tr>\n",
       "    <tr>\n",
       "      <th>1064</th>\n",
       "      <td>Frédéric Passy</td>\n",
       "      <td>Peace</td>\n",
       "      <td>1901</td>\n",
       "      <td>for his lifelong work for international peace ...</td>\n",
       "    </tr>\n",
       "  </tbody>\n",
       "</table>\n",
       "<p>1065 rows × 4 columns</p>\n",
       "</div>"
      ],
      "text/plain": [
       "                                   awardee                   field  year  \\\n",
       "0     Syukuro Manabe and Klaus Hasselmann                  Physics  2021   \n",
       "1                          Giorgio Parisi                  Physics  2021   \n",
       "2       Benjamin List and David MacMillan                Chemistry  2021   \n",
       "3     David Julius and Ardem Patapoutian    Physiology or Medicine  2021   \n",
       "4                       Abdulrazak Gurnah               Literature  2021   \n",
       "...                                    ...                     ...   ...   \n",
       "1060         Jacobus Henricus van ‘t Hoff                Chemistry  1901   \n",
       "1061               Emil Adolf von Behring   Physiology or Medicine  1901   \n",
       "1062                      Sully Prudhomme               Literature  1901   \n",
       "1063                    Jean Henry Dunant                    Peace  1901   \n",
       "1064                       Frédéric Passy                    Peace  1901   \n",
       "\n",
       "                                                   work  \n",
       "0     for the physical modelling of Earth’s climate,...  \n",
       "1     for the discovery of the interplay of disorder...  \n",
       "2     for the development of asymmetric organocatalysis  \n",
       "3     for their discoveries of receptors for tempera...  \n",
       "4     for his uncompromising and compassionate penet...  \n",
       "...                                                 ...  \n",
       "1060  in recognition of the extraordinary services h...  \n",
       "1061  for his work on serum therapy, especially its ...  \n",
       "1062  in special recognition of his poetic compositi...  \n",
       "1063  for his humanitarian efforts to help wounded s...  \n",
       "1064  for his lifelong work for international peace ...  \n",
       "\n",
       "[1065 rows x 4 columns]"
      ]
     },
     "execution_count": 42,
     "metadata": {},
     "output_type": "execute_result"
    }
   ],
   "source": [
    "df"
   ]
  },
  {
   "cell_type": "markdown",
   "id": "542d02e5",
   "metadata": {},
   "source": [
    "### Barack Obama Nobel price"
   ]
  },
  {
   "cell_type": "code",
   "execution_count": 82,
   "id": "ef4abb22",
   "metadata": {},
   "outputs": [
    {
     "data": {
      "text/html": [
       "<div>\n",
       "<style scoped>\n",
       "    .dataframe tbody tr th:only-of-type {\n",
       "        vertical-align: middle;\n",
       "    }\n",
       "\n",
       "    .dataframe tbody tr th {\n",
       "        vertical-align: top;\n",
       "    }\n",
       "\n",
       "    .dataframe thead th {\n",
       "        text-align: right;\n",
       "    }\n",
       "</style>\n",
       "<table border=\"1\" class=\"dataframe\">\n",
       "  <thead>\n",
       "    <tr style=\"text-align: right;\">\n",
       "      <th></th>\n",
       "      <th>awardee</th>\n",
       "      <th>field</th>\n",
       "      <th>year</th>\n",
       "      <th>work</th>\n",
       "    </tr>\n",
       "  </thead>\n",
       "  <tbody>\n",
       "    <tr>\n",
       "      <th>84</th>\n",
       "      <td>Barack H. Obama</td>\n",
       "      <td>Peace</td>\n",
       "      <td>2009</td>\n",
       "      <td>for his extraordinary efforts to strengthen in...</td>\n",
       "    </tr>\n",
       "  </tbody>\n",
       "</table>\n",
       "</div>"
      ],
      "text/plain": [
       "             awardee  field  year  \\\n",
       "84  Barack H. Obama   Peace  2009   \n",
       "\n",
       "                                                 work  \n",
       "84  for his extraordinary efforts to strengthen in...  "
      ]
     },
     "execution_count": 82,
     "metadata": {},
     "output_type": "execute_result"
    }
   ],
   "source": [
    "df.loc[df.awardee == \"Barack H. Obama \"]"
   ]
  },
  {
   "cell_type": "markdown",
   "id": "99c3d459",
   "metadata": {},
   "source": [
    "### Ernest Rutherford"
   ]
  },
  {
   "cell_type": "code",
   "execution_count": 103,
   "id": "6125fc0c",
   "metadata": {},
   "outputs": [],
   "source": [
    "df = df.drop(index=1021)"
   ]
  },
  {
   "cell_type": "code",
   "execution_count": 104,
   "id": "78541128",
   "metadata": {},
   "outputs": [
    {
     "data": {
      "text/html": [
       "<div>\n",
       "<style scoped>\n",
       "    .dataframe tbody tr th:only-of-type {\n",
       "        vertical-align: middle;\n",
       "    }\n",
       "\n",
       "    .dataframe tbody tr th {\n",
       "        vertical-align: top;\n",
       "    }\n",
       "\n",
       "    .dataframe thead th {\n",
       "        text-align: right;\n",
       "    }\n",
       "</style>\n",
       "<table border=\"1\" class=\"dataframe\">\n",
       "  <thead>\n",
       "    <tr style=\"text-align: right;\">\n",
       "      <th></th>\n",
       "      <th>awardee</th>\n",
       "      <th>field</th>\n",
       "      <th>year</th>\n",
       "      <th>work</th>\n",
       "    </tr>\n",
       "  </thead>\n",
       "  <tbody>\n",
       "    <tr>\n",
       "      <th>612</th>\n",
       "      <td>Ernest Rutherford</td>\n",
       "      <td>Chemistry</td>\n",
       "      <td>1908</td>\n",
       "      <td>for his investigations into the disintegration...</td>\n",
       "    </tr>\n",
       "  </tbody>\n",
       "</table>\n",
       "</div>"
      ],
      "text/plain": [
       "                awardee      field  year  \\\n",
       "612  Ernest Rutherford   Chemistry  1908   \n",
       "\n",
       "                                                  work  \n",
       "612  for his investigations into the disintegration...  "
      ]
     },
     "execution_count": 104,
     "metadata": {},
     "output_type": "execute_result"
    }
   ],
   "source": [
    "df.loc[df.awardee == \"Ernest Rutherford \"]"
   ]
  },
  {
   "cell_type": "code",
   "execution_count": 107,
   "id": "bfbf9b55",
   "metadata": {},
   "outputs": [
    {
     "data": {
      "text/plain": [
       "612    1908\n",
       "Name: year, dtype: object"
      ]
     },
     "execution_count": 107,
     "metadata": {},
     "output_type": "execute_result"
    }
   ],
   "source": [
    "df.year[df.awardee == \"Ernest Rutherford \"]"
   ]
  },
  {
   "cell_type": "code",
   "execution_count": 105,
   "id": "e3aeac22",
   "metadata": {},
   "outputs": [
    {
     "data": {
      "text/plain": [
       "612    Chemistry\n",
       "Name: field, dtype: object"
      ]
     },
     "execution_count": 105,
     "metadata": {},
     "output_type": "execute_result"
    }
   ],
   "source": [
    "df.field[df.awardee == \"Ernest Rutherford \"]"
   ]
  },
  {
   "cell_type": "code",
   "execution_count": 108,
   "id": "0cda6c3d",
   "metadata": {},
   "outputs": [
    {
     "data": {
      "text/plain": [
       "['for his investigations into the disintegration of the elements, and the chemistry of radioactive substances']"
      ]
     },
     "execution_count": 108,
     "metadata": {},
     "output_type": "execute_result"
    }
   ],
   "source": [
    "df.work[df.awardee == \"Ernest Rutherford \"].to_list()"
   ]
  },
  {
   "cell_type": "markdown",
   "id": "99d54007",
   "metadata": {},
   "source": [
    "### Physics "
   ]
  },
  {
   "cell_type": "code",
   "execution_count": 112,
   "id": "f9023e30",
   "metadata": {},
   "outputs": [],
   "source": [
    "df = df.drop(index=472)"
   ]
  },
  {
   "cell_type": "code",
   "execution_count": 114,
   "id": "45a958aa",
   "metadata": {},
   "outputs": [
    {
     "data": {
      "text/plain": [
       "881    Ernest Orlando Lawrence \n",
       "Name: awardee, dtype: object"
      ]
     },
     "execution_count": 114,
     "metadata": {},
     "output_type": "execute_result"
    }
   ],
   "source": [
    "df.awardee[df.year == 1939][df.field == \"Physics\"]"
   ]
  },
  {
   "cell_type": "markdown",
   "id": "aeb7e6cb",
   "metadata": {},
   "source": [
    "### Writting to csv"
   ]
  },
  {
   "cell_type": "code",
   "execution_count": 65,
   "id": "04685d87",
   "metadata": {},
   "outputs": [],
   "source": [
    "import csv\n",
    "\n",
    "# open the file in the write mode\n",
    "header=['awardee', 'field', 'year', 'work']\n",
    "\n",
    "with open('nobel_laureates.csv', 'w') as f:\n",
    "    # create the csv writer\n",
    "    writer = csv.writer(f, delimiter=',',\n",
    "                     quoting=csv.QUOTE_ALL)\n",
    "\n",
    "    # write a row to the csv file\n",
    "    for n in range(len(df.index)):\n",
    "        awardee = df.iloc[n]['awardee']\n",
    "        field = df.iloc[n]['field']\n",
    "        year = df.iloc[n]['year']\n",
    "        work = df.iloc[n]['work']\n",
    "        \n",
    "        if work[0] == '\"':\n",
    "            work = work[1:]\n",
    "            \n",
    "        elif work[-1] == \"'\":\n",
    "            work = work[:-1]\n",
    "        \n",
    "        row = [awardee, field, year, work]\n",
    "        \n",
    "        writer.writerow(row)\n",
    "\n",
    "# close the file\n",
    "f.close()"
   ]
  }
 ],
 "metadata": {
  "kernelspec": {
   "display_name": "Python 3 (ipykernel)",
   "language": "python",
   "name": "python3"
  },
  "language_info": {
   "codemirror_mode": {
    "name": "ipython",
    "version": 3
   },
   "file_extension": ".py",
   "mimetype": "text/x-python",
   "name": "python",
   "nbconvert_exporter": "python",
   "pygments_lexer": "ipython3",
   "version": "3.9.5"
  }
 },
 "nbformat": 4,
 "nbformat_minor": 5
}
